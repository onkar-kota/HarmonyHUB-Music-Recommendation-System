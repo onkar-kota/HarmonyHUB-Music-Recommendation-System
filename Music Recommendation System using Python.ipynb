{
 "cells": [
  {
   "cell_type": "markdown",
   "id": "f0d3a8fb-f578-4eff-a452-ecc615cca364",
   "metadata": {},
   "source": [
    "# Music Recommendation System Using Python"
   ]
  },
  {
   "cell_type": "markdown",
   "id": "923ed32d-0cfd-47a1-be6e-7bced0bfd024",
   "metadata": {},
   "source": [
    "To get started with building a Music Recommendation System, we first need to have an access token. The access token serves as a temporary authorization credential, allowing the code to make authenticated requests to the Spotify API on behalf of the application. Below is how we can get it:"
   ]
  },
  {
   "cell_type": "code",
   "execution_count": 19,
   "id": "d71d1d15-0e8e-4b66-a7e6-9ba8968b2a51",
   "metadata": {
    "tags": []
   },
   "outputs": [],
   "source": [
    "import requests\n",
    "import base64"
   ]
  },
  {
   "cell_type": "code",
   "execution_count": 20,
   "id": "28389125-e7a8-4290-8ea9-f5e3f4380846",
   "metadata": {
    "tags": []
   },
   "outputs": [],
   "source": [
    "# Replace with your own Client ID and LCient Secret\n",
    "CLIENT_ID = \"ed618130280643578827c3c3dbee9e0d\"\n",
    "CLIENT_SECRET = \"7e5c64ddb0e94bdca5ec3140ed2b3b51\""
   ]
  },
  {
   "cell_type": "code",
   "execution_count": 21,
   "id": "5f5eafc3-0b9b-4a9e-83ca-54b6b974dbb1",
   "metadata": {
    "tags": []
   },
   "outputs": [],
   "source": [
    "#Base64 encode the client ID and client secret\n",
    "client_credentials = f\"{CLIENT_ID}:{CLIENT_SECRET}\"\n",
    "client_credentials_base64 = base64.b64encode(client_credentials.encode())"
   ]
  },
  {
   "cell_type": "code",
   "execution_count": 23,
   "id": "e6f8edfd-f189-4ca9-a7d2-38ae9ea33a5e",
   "metadata": {
    "tags": []
   },
   "outputs": [
    {
     "name": "stdout",
     "output_type": "stream",
     "text": [
      "Access token obtained successfully.\n"
     ]
    }
   ],
   "source": [
    "# Request the acces token\n",
    "token_url = 'https://accounts.spotify.com/api/token'\n",
    "headers = {\n",
    "    'Authorization': f'Basic {client_credentials_base64.decode()}'\n",
    "}\n",
    "data = {\n",
    "    'grant_type': 'client_credentials'\n",
    "}\n",
    "response = requests.post(token_url, data=data, headers=headers)\n",
    "if response.status_code == 200:\n",
    "    access_token = response.json()['access_token']\n",
    "    print(\"Access token obtained successfully.\")\n",
    "else:\n",
    "    print(\"Error obtaining access token.\")\n",
    "    exit()"
   ]
  },
  {
   "cell_type": "markdown",
   "id": "5f4a6544-e9fc-41f1-a6e2-e556a33cc351",
   "metadata": {},
   "source": [
    "In the above code, The CLIENT_ID and CLIENT_SECRET variables hold my credentials (you need to add your credentials in these variables) that uniquely identify the application making requests to the Spotify API. These credentials are obtained when a developer registers their application with Spotify’s developer dashboard. The Client ID identifies the application, while the Client Secret is a confidential key used for authentication."
   ]
  },
  {
   "cell_type": "markdown",
   "id": "5f6b75d6-0b71-4666-82f3-b91ed80ad532",
   "metadata": {},
   "source": [
    "With the access token, the application can now make authorized requests to retrieve music data, such as tracks, albums, artists, and user information, which is fundamental for building a music recommendation system using the Spotify API and Python."
   ]
  },
  {
   "cell_type": "markdown",
   "id": "91c9bb7c-c094-45c5-a1ef-0e4f9fcf8b3d",
   "metadata": {},
   "source": [
    "Now, I’ll write a function to get music data from any playlist on Spotify. For this task, you need to install the Spotipy library, which is a Python library providing access to Spotify’s web API. \n",
    "- Here’s how to install it on your system by writing the command mentioned below in your command prompt or terminal:"
   ]
  },
  {
   "cell_type": "code",
   "execution_count": 9,
   "id": "d70943b0-54cc-4a82-bd0b-5b5d06434304",
   "metadata": {
    "tags": []
   },
   "outputs": [
    {
     "name": "stdout",
     "output_type": "stream",
     "text": [
      "Collecting spotipy\n",
      "  Downloading spotipy-2.23.0-py3-none-any.whl (29 kB)\n",
      "Collecting redis>=3.5.3 (from spotipy)\n",
      "  Obtaining dependency information for redis>=3.5.3 from https://files.pythonhosted.org/packages/df/b2/dfdc17f701f7b587f6c89c2b9b6b5978c87a8a785555efc810b064c875de/redis-5.0.0-py3-none-any.whl.metadata\n",
      "  Downloading redis-5.0.0-py3-none-any.whl.metadata (8.8 kB)\n",
      "Requirement already satisfied: requests>=2.25.0 in d:\\anaconda3\\lib\\site-packages (from spotipy) (2.31.0)\n",
      "Requirement already satisfied: six>=1.15.0 in d:\\anaconda3\\lib\\site-packages (from spotipy) (1.16.0)\n",
      "Requirement already satisfied: urllib3>=1.26.0 in d:\\anaconda3\\lib\\site-packages (from spotipy) (1.26.16)\n",
      "Requirement already satisfied: async-timeout>=4.0.2 in d:\\anaconda3\\lib\\site-packages (from redis>=3.5.3->spotipy) (4.0.2)\n",
      "Requirement already satisfied: charset-normalizer<4,>=2 in d:\\anaconda3\\lib\\site-packages (from requests>=2.25.0->spotipy) (2.0.4)\n",
      "Requirement already satisfied: idna<4,>=2.5 in d:\\anaconda3\\lib\\site-packages (from requests>=2.25.0->spotipy) (3.4)\n",
      "Requirement already satisfied: certifi>=2017.4.17 in d:\\anaconda3\\lib\\site-packages (from requests>=2.25.0->spotipy) (2023.7.22)\n",
      "Downloading redis-5.0.0-py3-none-any.whl (250 kB)\n",
      "   ---------------------------------------- 0.0/250.1 kB ? eta -:--:--\n",
      "   ---------------------------------------- 250.1/250.1 kB 5.1 MB/s eta 0:00:00\n",
      "Installing collected packages: redis, spotipy\n",
      "Successfully installed redis-5.0.0 spotipy-2.23.0\n",
      "Note: you may need to restart the kernel to use updated packages.\n"
     ]
    }
   ],
   "source": [
    "pip install spotipy"
   ]
  },
  {
   "cell_type": "markdown",
   "id": "81322eec-b2f2-4bc4-a56d-abecab9530d7",
   "metadata": {},
   "source": [
    "### now i am defining a function responsible for collectiing music data from any playlist on spotify using spotify library"
   ]
  },
  {
   "cell_type": "code",
   "execution_count": 24,
   "id": "d685efc6-384d-4f8d-b4ef-e73a1c9a517e",
   "metadata": {
    "tags": []
   },
   "outputs": [],
   "source": [
    "import pandas as pd\n",
    "import spotipy\n",
    "from spotipy.oauth2 import SpotifyOAuth"
   ]
  },
  {
   "cell_type": "code",
   "execution_count": 50,
   "id": "850a5eb8-9856-4359-9ab4-eb622079f674",
   "metadata": {
    "tags": []
   },
   "outputs": [],
   "source": [
    "def get_trending_playlist_data(playlist_id,access_token):\n",
    "    # setup spotify with the access token\n",
    "    sp = spotipy.Spotify(auth=access_token)\n",
    "    \n",
    "    #Get the track from the playlist\n",
    "    playlist_tracks = sp.playlist_tracks(playlist_id, fields='items(track(id, name, artists, album(id, name)))')\n",
    "    \n",
    "    #Extract relevent information and store in a list of dictionaries\n",
    "    music_data = []\n",
    "    for track_info in playlist_tracks['items']:\n",
    "        track = track_info['track']\n",
    "        track_name = track['name']\n",
    "        artists = ', '.join([artist['name'] for artist in track['artists']])\n",
    "        album_name = track['album']['name']\n",
    "        album_id = track['album']['id']\n",
    "        track_id = track['id']\n",
    "        \n",
    "        # Get audio features for the track\n",
    "        audio_features = sp.audio_features(track_id)[0] if track_id != 'Not available' else None\n",
    "        \n",
    "        # Get release date of the album\n",
    "        try:\n",
    "            album_info = sp.album(album_id) if album_id != 'Not available' else None\n",
    "            release_date = album_info['release_date'] if album_info else None\n",
    "        except:\n",
    "            release_date = None\n",
    "            \n",
    "        # Get popularity of the track\n",
    "        try:\n",
    "            track_info = sp.track(tack_id) if track_id != 'Not available' else None\n",
    "            popularity = track_info['popularity'] if track_info else None\n",
    "        except:\n",
    "            popularity = None\n",
    "            \n",
    "        # Add additional track information to the track data\n",
    "        track_data = {\n",
    "            'Track Name' : track_name,\n",
    "            'Artists' : artists,\n",
    "            'Album Name': album_name,\n",
    "            'Album Id': album_id,\n",
    "            'Track ID':track_id,\n",
    "            'Popularity':popularity,\n",
    "            'Release Date':release_date,\n",
    "            'Duration (ms)': audio_features['duration_ms'] if audio_features else None,\n",
    "            'Explicit URLs': track_info.get('external_urls',{}).get('splotify',None),\n",
    "            'Danceability': audio_features['danceability'] if audio_features else None,\n",
    "            'Energy': audio_features['energy'] if audio_features else None,\n",
    "            'Key': audio_features['key'] if audio_features else None,\n",
    "            'Loudness': audio_features['loudness'] if audio_features else None,\n",
    "            'Mode': audio_features['mode'] if audio_features else None,\n",
    "            'Speechiness': audio_features['speechiness'] if audio_features else None,\n",
    "            'Acousticness': audio_features['acousticness'] if audio_features else None,\n",
    "            'Instrumentalness': audio_features['instrumentalness'] if audio_features else None,\n",
    "            'Liveness': audio_features['liveness'] if audio_features else None,\n",
    "            'Valence': audio_features['valence'] if audio_features else None,\n",
    "            'Tempo': audio_features['tempo'] if audio_features else None,\n",
    "        }\n",
    "        \n",
    "        music_data.append(track_data)\n",
    "        \n",
    "    # Create a pandas DataFrame from the list of dictionaries\n",
    "    df = pd.DataFrame(music_data)\n",
    "    \n",
    "    return df"
   ]
  },
  {
   "cell_type": "code",
   "execution_count": 51,
   "id": "9d21963f-8788-4777-b3d6-ef627e6b4634",
   "metadata": {
    "tags": []
   },
   "outputs": [
    {
     "name": "stdout",
     "output_type": "stream",
     "text": [
      "                                           Track Name  \\\n",
      "0                                             FRIENDS   \n",
      "1                                        Dance Monkey   \n",
      "2                                            Señorita   \n",
      "3   Love Me Like You Do - From \"Fifty Shades Of Grey\"   \n",
      "4                                             7 rings   \n",
      "..                                                ...   \n",
      "95                                   Somebody To Love   \n",
      "96                                      Material Girl   \n",
      "97                     Whatta Man / Seven Nation Army   \n",
      "98                                     Let's Get Loud   \n",
      "99                            My Oh My (feat. DaBaby)   \n",
      "\n",
      "                                              Artists  \\\n",
      "0                              Marshmello, Anne-Marie   \n",
      "1                                         Tones And I   \n",
      "2                        Shawn Mendes, Camila Cabello   \n",
      "3                                      Ellie Goulding   \n",
      "4                                       Ariana Grande   \n",
      "..                                                ...   \n",
      "95  Nicholas Galitzine, Cinderella Original Motion...   \n",
      "96  Idina Menzel, Cinderella Original Motion Pictu...   \n",
      "97  Nicholas Galitzine, Cinderella Original Motion...   \n",
      "98  Camila Cabello, Nicholas Galitzine, Idina Menz...   \n",
      "99                             Camila Cabello, DaBaby   \n",
      "\n",
      "                                           Album Name                Album Id  \\\n",
      "0                                             FRIENDS  1BmxOYHjQv1dKZRr13YRZM   \n",
      "1         Dance Monkey (Stripped Back) / Dance Monkey  0UywfDKYlyiu1b38DRrzYD   \n",
      "2                                            Señorita  2ZaX1FdZCwchXl1QZiD4O4   \n",
      "3                                   Delirium (Deluxe)  20Ol6zZ0nLlc5EGTH1zA0j   \n",
      "4                                       thank u, next  2fYhqwDWXjbpjaIJPEfKFw   \n",
      "..                                                ...                     ...   \n",
      "95  Cinderella (Soundtrack from the Amazon Origina...  1zrMpRxr8tOAW75p4PrzHV   \n",
      "96  Cinderella (Soundtrack from the Amazon Origina...  1zrMpRxr8tOAW75p4PrzHV   \n",
      "97  Cinderella (Soundtrack from the Amazon Origina...  1zrMpRxr8tOAW75p4PrzHV   \n",
      "98  Cinderella (Soundtrack from the Amazon Origina...  1zrMpRxr8tOAW75p4PrzHV   \n",
      "99                                            Romance  3Vsbl0diFGw8HNSjG8ue9m   \n",
      "\n",
      "                  Track ID Popularity Release Date  Duration (ms)  \\\n",
      "0   08bNPGLD8AhKpnnERrAc6G       None   2018-02-09         202621   \n",
      "1   2XU0oxnq2qxCpomAAuJY8K       None   2019-10-17         209438   \n",
      "2   0TK2YIli7K1leLovkQiNik       None   2019-06-21         190960   \n",
      "3   3zHq9ouUJQFQRf3cm1rRLu       None   2015-11-06         252534   \n",
      "4   6ocbgoVGwYJhOv1GgI9NsF       None   2019-02-08         178627   \n",
      "..                     ...        ...          ...            ...   \n",
      "95  5nJLvHZyBesLVvDfsvq2sW       None   2021-09-03         226494   \n",
      "96  0RggsY32eUVYASgahrfmSX       None   2021-09-03         139334   \n",
      "97  0NmchePyErXqRkrKT2NPGB       None   2021-09-03         189283   \n",
      "98  4eXkL0CypEdxQlp1s9Xsvd       None   2021-09-03         329342   \n",
      "99  3yOlyBJuViE2YSGn3nVE1K       None   2019-12-06         170746   \n",
      "\n",
      "   Explicit URLs  Danceability  Energy  Key  Loudness  Mode  Speechiness  \\\n",
      "0           None         0.626   0.880    9    -2.384     0       0.0504   \n",
      "1           None         0.824   0.588    6    -6.400     0       0.0924   \n",
      "2           None         0.759   0.540    9    -6.039     0       0.0287   \n",
      "3           None         0.262   0.606    8    -6.646     1       0.0484   \n",
      "4           None         0.778   0.317    1   -10.732     0       0.3340   \n",
      "..           ...           ...     ...  ...       ...   ...          ...   \n",
      "95          None         0.315   0.674    5    -4.171     1       0.0858   \n",
      "96          None         0.696   0.866   11    -2.969     1       0.0518   \n",
      "97          None         0.526   0.735    7    -4.444     1       0.2630   \n",
      "98          None         0.682   0.785    8    -4.339     1       0.0566   \n",
      "99          None         0.724   0.491    8    -6.024     1       0.0296   \n",
      "\n",
      "    Acousticness  Instrumentalness  Liveness  Valence    Tempo  \n",
      "0         0.2050          0.000000    0.1280    0.534   95.079  \n",
      "1         0.6920          0.000104    0.1490    0.513   98.027  \n",
      "2         0.0370          0.000000    0.0945    0.750  116.947  \n",
      "3         0.2470          0.000000    0.1250    0.275  189.857  \n",
      "4         0.5920          0.000000    0.0881    0.327  140.048  \n",
      "..           ...               ...       ...      ...      ...  \n",
      "95        0.0583          0.000000    0.1000    0.285   76.417  \n",
      "96        0.0380          0.000000    0.4090    0.906  135.948  \n",
      "97        0.3680          0.000000    0.1460    0.636  127.165  \n",
      "98        0.0122          0.000008    0.0716    0.624  132.020  \n",
      "99        0.0180          0.000013    0.0887    0.383  105.046  \n",
      "\n",
      "[100 rows x 20 columns]\n"
     ]
    }
   ],
   "source": [
    "playlist_id = '79g6ROrUpEvLXTFXqrkxVZ'\n",
    "\n",
    "# call the function to get music data from the playlist and store it in dataframe\n",
    "music_df = get_trending_playlist_data(playlist_id,access_token)\n",
    "print(music_df)"
   ]
  },
  {
   "cell_type": "code",
   "execution_count": 52,
   "id": "ca495efe-1281-4476-86bf-a75531aeac99",
   "metadata": {
    "tags": []
   },
   "outputs": [
    {
     "name": "stdout",
     "output_type": "stream",
     "text": [
      "Track Name            0\n",
      "Artists               0\n",
      "Album Name            0\n",
      "Album Id              0\n",
      "Track ID              0\n",
      "Popularity          100\n",
      "Release Date          0\n",
      "Duration (ms)         0\n",
      "Explicit URLs       100\n",
      "Danceability          0\n",
      "Energy                0\n",
      "Key                   0\n",
      "Loudness              0\n",
      "Mode                  0\n",
      "Speechiness           0\n",
      "Acousticness          0\n",
      "Instrumentalness      0\n",
      "Liveness              0\n",
      "Valence               0\n",
      "Tempo                 0\n",
      "dtype: int64\n"
     ]
    }
   ],
   "source": [
    "print(music_df.isnull().sum())"
   ]
  },
  {
   "cell_type": "code",
   "execution_count": 53,
   "id": "2dd86bed-d359-44be-949c-e881e2c9a96c",
   "metadata": {
    "tags": []
   },
   "outputs": [
    {
     "data": {
      "text/html": [
       "<div>\n",
       "<style scoped>\n",
       "    .dataframe tbody tr th:only-of-type {\n",
       "        vertical-align: middle;\n",
       "    }\n",
       "\n",
       "    .dataframe tbody tr th {\n",
       "        vertical-align: top;\n",
       "    }\n",
       "\n",
       "    .dataframe thead th {\n",
       "        text-align: right;\n",
       "    }\n",
       "</style>\n",
       "<table border=\"1\" class=\"dataframe\">\n",
       "  <thead>\n",
       "    <tr style=\"text-align: right;\">\n",
       "      <th></th>\n",
       "      <th>Track Name</th>\n",
       "      <th>Artists</th>\n",
       "      <th>Album Name</th>\n",
       "      <th>Album Id</th>\n",
       "      <th>Track ID</th>\n",
       "      <th>Popularity</th>\n",
       "      <th>Release Date</th>\n",
       "      <th>Duration (ms)</th>\n",
       "      <th>Explicit URLs</th>\n",
       "      <th>Danceability</th>\n",
       "      <th>Energy</th>\n",
       "      <th>Key</th>\n",
       "      <th>Loudness</th>\n",
       "      <th>Mode</th>\n",
       "      <th>Speechiness</th>\n",
       "      <th>Acousticness</th>\n",
       "      <th>Instrumentalness</th>\n",
       "      <th>Liveness</th>\n",
       "      <th>Valence</th>\n",
       "      <th>Tempo</th>\n",
       "    </tr>\n",
       "  </thead>\n",
       "  <tbody>\n",
       "    <tr>\n",
       "      <th>0</th>\n",
       "      <td>FRIENDS</td>\n",
       "      <td>Marshmello, Anne-Marie</td>\n",
       "      <td>FRIENDS</td>\n",
       "      <td>1BmxOYHjQv1dKZRr13YRZM</td>\n",
       "      <td>08bNPGLD8AhKpnnERrAc6G</td>\n",
       "      <td>None</td>\n",
       "      <td>2018-02-09</td>\n",
       "      <td>202621</td>\n",
       "      <td>None</td>\n",
       "      <td>0.626</td>\n",
       "      <td>0.880</td>\n",
       "      <td>9</td>\n",
       "      <td>-2.384</td>\n",
       "      <td>0</td>\n",
       "      <td>0.0504</td>\n",
       "      <td>0.205</td>\n",
       "      <td>0.000000</td>\n",
       "      <td>0.1280</td>\n",
       "      <td>0.534</td>\n",
       "      <td>95.079</td>\n",
       "    </tr>\n",
       "    <tr>\n",
       "      <th>1</th>\n",
       "      <td>Dance Monkey</td>\n",
       "      <td>Tones And I</td>\n",
       "      <td>Dance Monkey (Stripped Back) / Dance Monkey</td>\n",
       "      <td>0UywfDKYlyiu1b38DRrzYD</td>\n",
       "      <td>2XU0oxnq2qxCpomAAuJY8K</td>\n",
       "      <td>None</td>\n",
       "      <td>2019-10-17</td>\n",
       "      <td>209438</td>\n",
       "      <td>None</td>\n",
       "      <td>0.824</td>\n",
       "      <td>0.588</td>\n",
       "      <td>6</td>\n",
       "      <td>-6.400</td>\n",
       "      <td>0</td>\n",
       "      <td>0.0924</td>\n",
       "      <td>0.692</td>\n",
       "      <td>0.000104</td>\n",
       "      <td>0.1490</td>\n",
       "      <td>0.513</td>\n",
       "      <td>98.027</td>\n",
       "    </tr>\n",
       "    <tr>\n",
       "      <th>2</th>\n",
       "      <td>Señorita</td>\n",
       "      <td>Shawn Mendes, Camila Cabello</td>\n",
       "      <td>Señorita</td>\n",
       "      <td>2ZaX1FdZCwchXl1QZiD4O4</td>\n",
       "      <td>0TK2YIli7K1leLovkQiNik</td>\n",
       "      <td>None</td>\n",
       "      <td>2019-06-21</td>\n",
       "      <td>190960</td>\n",
       "      <td>None</td>\n",
       "      <td>0.759</td>\n",
       "      <td>0.540</td>\n",
       "      <td>9</td>\n",
       "      <td>-6.039</td>\n",
       "      <td>0</td>\n",
       "      <td>0.0287</td>\n",
       "      <td>0.037</td>\n",
       "      <td>0.000000</td>\n",
       "      <td>0.0945</td>\n",
       "      <td>0.750</td>\n",
       "      <td>116.947</td>\n",
       "    </tr>\n",
       "    <tr>\n",
       "      <th>3</th>\n",
       "      <td>Love Me Like You Do - From \"Fifty Shades Of Grey\"</td>\n",
       "      <td>Ellie Goulding</td>\n",
       "      <td>Delirium (Deluxe)</td>\n",
       "      <td>20Ol6zZ0nLlc5EGTH1zA0j</td>\n",
       "      <td>3zHq9ouUJQFQRf3cm1rRLu</td>\n",
       "      <td>None</td>\n",
       "      <td>2015-11-06</td>\n",
       "      <td>252534</td>\n",
       "      <td>None</td>\n",
       "      <td>0.262</td>\n",
       "      <td>0.606</td>\n",
       "      <td>8</td>\n",
       "      <td>-6.646</td>\n",
       "      <td>1</td>\n",
       "      <td>0.0484</td>\n",
       "      <td>0.247</td>\n",
       "      <td>0.000000</td>\n",
       "      <td>0.1250</td>\n",
       "      <td>0.275</td>\n",
       "      <td>189.857</td>\n",
       "    </tr>\n",
       "    <tr>\n",
       "      <th>4</th>\n",
       "      <td>7 rings</td>\n",
       "      <td>Ariana Grande</td>\n",
       "      <td>thank u, next</td>\n",
       "      <td>2fYhqwDWXjbpjaIJPEfKFw</td>\n",
       "      <td>6ocbgoVGwYJhOv1GgI9NsF</td>\n",
       "      <td>None</td>\n",
       "      <td>2019-02-08</td>\n",
       "      <td>178627</td>\n",
       "      <td>None</td>\n",
       "      <td>0.778</td>\n",
       "      <td>0.317</td>\n",
       "      <td>1</td>\n",
       "      <td>-10.732</td>\n",
       "      <td>0</td>\n",
       "      <td>0.3340</td>\n",
       "      <td>0.592</td>\n",
       "      <td>0.000000</td>\n",
       "      <td>0.0881</td>\n",
       "      <td>0.327</td>\n",
       "      <td>140.048</td>\n",
       "    </tr>\n",
       "  </tbody>\n",
       "</table>\n",
       "</div>"
      ],
      "text/plain": [
       "                                          Track Name  \\\n",
       "0                                            FRIENDS   \n",
       "1                                       Dance Monkey   \n",
       "2                                           Señorita   \n",
       "3  Love Me Like You Do - From \"Fifty Shades Of Grey\"   \n",
       "4                                            7 rings   \n",
       "\n",
       "                        Artists                                   Album Name  \\\n",
       "0        Marshmello, Anne-Marie                                      FRIENDS   \n",
       "1                   Tones And I  Dance Monkey (Stripped Back) / Dance Monkey   \n",
       "2  Shawn Mendes, Camila Cabello                                     Señorita   \n",
       "3                Ellie Goulding                            Delirium (Deluxe)   \n",
       "4                 Ariana Grande                                thank u, next   \n",
       "\n",
       "                 Album Id                Track ID Popularity Release Date  \\\n",
       "0  1BmxOYHjQv1dKZRr13YRZM  08bNPGLD8AhKpnnERrAc6G       None   2018-02-09   \n",
       "1  0UywfDKYlyiu1b38DRrzYD  2XU0oxnq2qxCpomAAuJY8K       None   2019-10-17   \n",
       "2  2ZaX1FdZCwchXl1QZiD4O4  0TK2YIli7K1leLovkQiNik       None   2019-06-21   \n",
       "3  20Ol6zZ0nLlc5EGTH1zA0j  3zHq9ouUJQFQRf3cm1rRLu       None   2015-11-06   \n",
       "4  2fYhqwDWXjbpjaIJPEfKFw  6ocbgoVGwYJhOv1GgI9NsF       None   2019-02-08   \n",
       "\n",
       "   Duration (ms) Explicit URLs  Danceability  Energy  Key  Loudness  Mode  \\\n",
       "0         202621          None         0.626   0.880    9    -2.384     0   \n",
       "1         209438          None         0.824   0.588    6    -6.400     0   \n",
       "2         190960          None         0.759   0.540    9    -6.039     0   \n",
       "3         252534          None         0.262   0.606    8    -6.646     1   \n",
       "4         178627          None         0.778   0.317    1   -10.732     0   \n",
       "\n",
       "   Speechiness  Acousticness  Instrumentalness  Liveness  Valence    Tempo  \n",
       "0       0.0504         0.205          0.000000    0.1280    0.534   95.079  \n",
       "1       0.0924         0.692          0.000104    0.1490    0.513   98.027  \n",
       "2       0.0287         0.037          0.000000    0.0945    0.750  116.947  \n",
       "3       0.0484         0.247          0.000000    0.1250    0.275  189.857  \n",
       "4       0.3340         0.592          0.000000    0.0881    0.327  140.048  "
      ]
     },
     "execution_count": 53,
     "metadata": {},
     "output_type": "execute_result"
    }
   ],
   "source": [
    "music_df[:5]"
   ]
  },
  {
   "cell_type": "markdown",
   "id": "30f1a31c-1d54-487e-96bd-a69bc6c9f374",
   "metadata": {},
   "source": [
    "## Now lets move further to building a music recommendation system"
   ]
  },
  {
   "cell_type": "code",
   "execution_count": 36,
   "id": "c805f558-6a58-41c7-a835-f3316ec9ca75",
   "metadata": {
    "tags": []
   },
   "outputs": [],
   "source": [
    "import pandas as pd\n",
    "import numpy as np\n",
    "from sklearn.model_selection import train_test_split\n",
    "from sklearn.preprocessing import MinMaxScaler\n",
    "from datetime import datetime\n",
    "from sklearn.metrics.pairwise import cosine_similarity\n",
    "\n",
    "data = music_df"
   ]
  },
  {
   "cell_type": "markdown",
   "id": "4931c292-c6aa-475e-a0d4-4c98638c7822",
   "metadata": {
    "tags": []
   },
   "source": [
    "While providing music recommendations to users, it is important to recommend the latest releases. For this, we need to give more weight to the latest releases in the recommendations."
   ]
  },
  {
   "cell_type": "code",
   "execution_count": 54,
   "id": "b8ebda5d-e67e-4d15-8ce6-91dae7019586",
   "metadata": {
    "tags": []
   },
   "outputs": [],
   "source": [
    "# fucntion to calculate weighted popularity scores based on release date\n",
    "\n",
    "def calculate_weighted_popularity(release_date):\n",
    "    # convert the release date to datetime object\n",
    "    release_date = datetime.strptime(release_date, \"%Y-%m-%d\")\n",
    "    \n",
    "    # calculate the time span between release date and todays date\n",
    "    time_span = datetime.now() - release_date\n",
    "    \n",
    "    # calculate the weighted popularity score based on tume span (e.g., more recent releases have higher weight)\n",
    "    weight = 1/(time_span.days + 1)\n",
    "    return weight"
   ]
  },
  {
   "cell_type": "markdown",
   "id": "ab480c09-354a-4b64-89d7-0d7a927d6788",
   "metadata": {},
   "source": [
    "The idea behind this formula is that the weight decreases as the time span between the release date and today increases. More recent releases will have a higher weight, while older releases will have a lower weight. As a result, when combining this weighted popularity score with other factors in a recommendation system, recent tracks will have a more significant impact on the final recommendations, reflecting users’ potential interest in newer music."
   ]
  },
  {
   "cell_type": "code",
   "execution_count": 55,
   "id": "aded8818-613a-424f-b4fc-51c4d78761f5",
   "metadata": {
    "tags": []
   },
   "outputs": [],
   "source": [
    "scaler = MinMaxScaler()\n",
    "music_features = music_df[['Danceability','Energy','Key','Loudness','Mode','Speechiness','Acousticness',\n",
    "                          'Instrumentalness','Liveness','Valence','Tempo']].values\n",
    "music_features_scaled = scaler.fit_transform(music_features)"
   ]
  },
  {
   "cell_type": "markdown",
   "id": "73d51dfb-7acb-487c-9b3b-f50b11b17b6c",
   "metadata": {
    "tags": []
   },
   "source": [
    "We will create a hybrid recommendation system for music recommendations. The first approach will be based on **recommending music based on music audio features**, and the second approach will be based on **recommending music based on weighted popularity."
   ]
  },
  {
   "cell_type": "markdown",
   "id": "39e2fbf2-c674-4f5b-8ab3-22756f546065",
   "metadata": {},
   "source": [
    "### Here's how to generate music recommendations based on the music audio features"
   ]
  },
  {
   "cell_type": "code",
   "execution_count": 56,
   "id": "f516d062-6136-42a2-b8b5-db64f8e3f011",
   "metadata": {
    "tags": []
   },
   "outputs": [],
   "source": [
    "def content_based_recommendations(input_song_name, num_recommendations=5):\n",
    "    if input_song_name not in music_df['Track Name'].values:\n",
    "        print(f\"'{input_song_name}' not found in the dataset. Please enter a valid song name.\")\n",
    "        return\n",
    "\n",
    "    # Get the index of the input song in the music DataFrame\n",
    "    input_song_index = music_df[music_df['Track Name'] == input_song_name].index[0]\n",
    "\n",
    "    # Calculate the similarity scores based on music features (cosine similarity)\n",
    "    similarity_scores = cosine_similarity([music_features_scaled[input_song_index]], music_features_scaled)\n",
    "\n",
    "    # Get the indices of the most similar songs\n",
    "    similar_song_indices = similarity_scores.argsort()[0][::-1][1:num_recommendations + 1]\n",
    "\n",
    "    # Get the names of the most similar songs based on content-based filtering\n",
    "    content_based_recommendations = music_df.iloc[similar_song_indices][['Track Name', 'Artists', 'Album Name', 'Release Date', 'Popularity']]\n",
    "\n",
    "    return content_based_recommendations"
   ]
  },
  {
   "cell_type": "code",
   "execution_count": 59,
   "id": "5f3e8b70-6cda-40c0-ac5b-41509a15ee9a",
   "metadata": {
    "tags": []
   },
   "outputs": [
    {
     "name": "stdout",
     "output_type": "stream",
     "text": [
      "Content based recommended songs for 'FRIENDS':\n"
     ]
    },
    {
     "data": {
      "text/html": [
       "<div>\n",
       "<style scoped>\n",
       "    .dataframe tbody tr th:only-of-type {\n",
       "        vertical-align: middle;\n",
       "    }\n",
       "\n",
       "    .dataframe tbody tr th {\n",
       "        vertical-align: top;\n",
       "    }\n",
       "\n",
       "    .dataframe thead th {\n",
       "        text-align: right;\n",
       "    }\n",
       "</style>\n",
       "<table border=\"1\" class=\"dataframe\">\n",
       "  <thead>\n",
       "    <tr style=\"text-align: right;\">\n",
       "      <th></th>\n",
       "      <th>Track Name</th>\n",
       "      <th>Artists</th>\n",
       "      <th>Album Name</th>\n",
       "      <th>Release Date</th>\n",
       "      <th>Popularity</th>\n",
       "    </tr>\n",
       "  </thead>\n",
       "  <tbody>\n",
       "    <tr>\n",
       "      <th>23</th>\n",
       "      <td>Lush Life</td>\n",
       "      <td>Zara Larsson</td>\n",
       "      <td>So Good</td>\n",
       "      <td>2017-03-17</td>\n",
       "      <td>None</td>\n",
       "    </tr>\n",
       "    <tr>\n",
       "      <th>42</th>\n",
       "      <td>Believer</td>\n",
       "      <td>Imagine Dragons</td>\n",
       "      <td>Evolve</td>\n",
       "      <td>2017-06-23</td>\n",
       "      <td>None</td>\n",
       "    </tr>\n",
       "    <tr>\n",
       "      <th>25</th>\n",
       "      <td>Levitating</td>\n",
       "      <td>Dua Lipa</td>\n",
       "      <td>Future Nostalgia</td>\n",
       "      <td>2020-03-27</td>\n",
       "      <td>None</td>\n",
       "    </tr>\n",
       "    <tr>\n",
       "      <th>43</th>\n",
       "      <td>Not Your Barbie Girl</td>\n",
       "      <td>Ava Max</td>\n",
       "      <td>Not Your Barbie Girl</td>\n",
       "      <td>2018-08-13</td>\n",
       "      <td>None</td>\n",
       "    </tr>\n",
       "    <tr>\n",
       "      <th>19</th>\n",
       "      <td>Cheap Thrills</td>\n",
       "      <td>Sia</td>\n",
       "      <td>This Is Acting</td>\n",
       "      <td>2016-01-29</td>\n",
       "      <td>None</td>\n",
       "    </tr>\n",
       "  </tbody>\n",
       "</table>\n",
       "</div>"
      ],
      "text/plain": [
       "              Track Name          Artists            Album Name Release Date  \\\n",
       "23             Lush Life     Zara Larsson               So Good   2017-03-17   \n",
       "42              Believer  Imagine Dragons                Evolve   2017-06-23   \n",
       "25            Levitating         Dua Lipa      Future Nostalgia   2020-03-27   \n",
       "43  Not Your Barbie Girl          Ava Max  Not Your Barbie Girl   2018-08-13   \n",
       "19         Cheap Thrills              Sia        This Is Acting   2016-01-29   \n",
       "\n",
       "   Popularity  \n",
       "23       None  \n",
       "42       None  \n",
       "25       None  \n",
       "43       None  \n",
       "19       None  "
      ]
     },
     "execution_count": 59,
     "metadata": {},
     "output_type": "execute_result"
    }
   ],
   "source": [
    "input_song_name = \"FRIENDS\"\n",
    "recommendations = content_based_recommendations(input_song_name, num_recommendations=5)\n",
    "print(f\"Content based recommended songs for '{input_song_name}':\")\n",
    "# print(recommendations)\n",
    "recommendations"
   ]
  },
  {
   "cell_type": "markdown",
   "id": "99c8b12c-133d-42a5-a233-9d0a0cfe005a",
   "metadata": {
    "tags": []
   },
   "source": [
    "The function calculates the similarity scores between the audio features of the input song and all other songs in the dataset. It uses cosine similarity, a common measure used in content-based filtering. The cosine_similarity function from scikit-learn is employed to compute these similarity scores.\n",
    "\n",
    "The function identifies the num_recommendations most similar songs to the input song based on their audio features. It does this by sorting the similarity scores in descending order and selecting the top num_recommendations songs. The input song itself is excluded from the recommendations (hence the [1:num_recommendations + 1] slicing). The function then extracts the details (such as track name, artists, album name, release date, and popularity) of the most similar songs from the music_df DataFrame using the indices of the most similar songs."
   ]
  },
  {
   "cell_type": "markdown",
   "id": "ca203c64-2900-414e-89a1-34e0787d9126",
   "metadata": {
    "tags": []
   },
   "source": [
    "# END"
   ]
  },
  {
   "cell_type": "code",
   "execution_count": null,
   "id": "9fb9cecf-9224-439c-b039-dcb20b8b1c21",
   "metadata": {},
   "outputs": [],
   "source": []
  }
 ],
 "metadata": {
  "kernelspec": {
   "display_name": "Python 3 (ipykernel)",
   "language": "python",
   "name": "python3"
  },
  "language_info": {
   "codemirror_mode": {
    "name": "ipython",
    "version": 3
   },
   "file_extension": ".py",
   "mimetype": "text/x-python",
   "name": "python",
   "nbconvert_exporter": "python",
   "pygments_lexer": "ipython3",
   "version": "3.9.17"
  }
 },
 "nbformat": 4,
 "nbformat_minor": 5
}
